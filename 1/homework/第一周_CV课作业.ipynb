{
 "cells": [
  {
   "cell_type": "markdown",
   "metadata": {},
   "source": [
    "![](https://img.kaikeba.com/web/kkb_index/img_index_logo.png)"
   ]
  },
  {
   "cell_type": "markdown",
   "metadata": {},
   "source": [
    "# Lesson-01 Assignment"
   ]
  },
  {
   "cell_type": "markdown",
   "metadata": {},
   "source": [
    "   各位同学大家好，欢迎各位开始学习我们的人工智能课程。这门课程假设大家不具备机器学习和人工智能的知识，但是希望大家具备初级的Python编程能力。根据往期同学的实际反馈，我们课程的完结之后 能力能够超过80%的计算机人工智能/深度学习方向的硕士生的能力。"
   ]
  },
  {
   "cell_type": "markdown",
   "metadata": {},
   "source": [
    "## 本次作业的内容"
   ]
  },
  {
   "cell_type": "markdown",
   "metadata": {},
   "source": [
    "### 1. Recode all examples;"
   ]
  },
  {
   "cell_type": "markdown",
   "metadata": {},
   "source": [
    "### 2. Please answer some questions about our course. We do appreciate your help."
   ]
  },
  {
   "cell_type": "markdown",
   "metadata": {},
   "source": [
    "   2.1  What do you want to get in this course? "
   ]
  },
  {
   "cell_type": "markdown",
   "metadata": {},
   "source": [
    "Answer:知识、经验、技术"
   ]
  },
  {
   "cell_type": "markdown",
   "metadata": {},
   "source": [
    "2.2 What problems do you want to solve? "
   ]
  },
  {
   "cell_type": "markdown",
   "metadata": {},
   "source": [
    "Answer:就业，学习"
   ]
  },
  {
   "cell_type": "markdown",
   "metadata": {},
   "source": [
    " 2.3 What advantages do you have to accomplish your goal?"
   ]
  },
  {
   "cell_type": "markdown",
   "metadata": {},
   "source": [
    "Answer:熟悉python，学习能力强"
   ]
  },
  {
   "cell_type": "markdown",
   "metadata": {},
   "source": [
    " 2.4 What disadvantages you need to overcome to accomplish your goal?"
   ]
  },
  {
   "cell_type": "markdown",
   "metadata": {},
   "source": [
    "Answer:对专业知识了解不深入"
   ]
  },
  {
   "cell_type": "markdown",
   "metadata": {},
   "source": [
    "2.5 How will you plan to study in this course? "
   ]
  },
  {
   "cell_type": "markdown",
   "metadata": {},
   "source": [
    "Answer:按计划完成学习目标，做好笔记，课外扩充相关知识"
   ]
  },
  {
   "cell_type": "markdown",
   "metadata": {},
   "source": [
    "### 3. 如何提交"
   ]
  },
  {
   "cell_type": "markdown",
   "metadata": {},
   "source": [
    "答疑平台提交，具体方式，见作业提交指南"
   ]
  },
  {
   "cell_type": "markdown",
   "metadata": {},
   "source": [
    "### 4. 作业截止时间"
   ]
  },
  {
   "cell_type": "markdown",
   "metadata": {},
   "source": [
    "作业能帮助你回顾课堂内容，你又可以通过作业进行代码实操。咱们可要认真、及时的完成作业哦！自布置作业起两周内提交，助教及时批改作业哦～逾期提交不批改。（特殊情况，请找班主任请假。）"
   ]
  },
  {
   "cell_type": "markdown",
   "metadata": {},
   "source": [
    "### 5. 完成以下问答和编程练习"
   ]
  },
  {
   "cell_type": "markdown",
   "metadata": {},
   "source": [
    "5.1  Please combine **image crop, color shift, rotation and perspective transform** together to complete a data augmentation script.\n",
    "   Your code need to be completed in Python/C++ in .py or .cpp file with comments and readme file to indicate how to use."
   ]
  },
  {
   "cell_type": "code",
   "execution_count": 204,
   "metadata": {},
   "outputs": [],
   "source": [
    "import cv2\n",
    "import math\n",
    "import random\n",
    "import numpy as np\n",
    "\n",
    "def image_crop(image, x_start, x_end, y_start, y_end): \n",
    "    \"\"\"\n",
    "    @param image: 操作图片\n",
    "    @param x_start: x起始点\n",
    "    @param x_end:   x结束点\n",
    "    @param y_start: y起始点\n",
    "    @param y_off:   y结束点\n",
    "    超过边界自动转到图像边界\n",
    "    \"\"\"\n",
    "    y_lim, x_lim, _ = image.shape\n",
    "    x_start = 0 if x_start < 0 else x_start\n",
    "    y_start = 0 if y_start < 0 else y_start\n",
    "    if x_start > x_end or y_start > y_end:\n",
    "        raise Exception(\"illegal param, please check your boundary\")\n",
    "    x_end = x_lim if x_end > x_lim else x_end\n",
    "    y_end = y_lim if y_end > y_lim else y_end\n",
    "    return image[y_start:y_end, x_start:x_end,:]\n",
    "\n",
    "def image_move(image, right, down): \n",
    "    \"\"\"\n",
    "    @param image: 原始图片\n",
    "    @param right: 向右移动距离\n",
    "    @param down:  向下移动距离\n",
    "    负数表示向反方向移动\n",
    "    \"\"\"\n",
    "    move_matrix = np.array([[1, 0, right], [0, 1, down]]).astype('float32')\n",
    "    return cv2.warpAffine(image, move_matrix, image.shape[-2::-1])\n",
    "\n",
    "def my_rotation(image, angle, clockwise=True):\n",
    "    \"\"\"\n",
    "    自定义旋转函数\n",
    "    @param image: 原始图片\n",
    "    @param angle: 旋转角度\n",
    "    @param clockwose: 旋转方向\n",
    "    \"\"\"\n",
    "    if not clockwise:\n",
    "        angle = -angle\n",
    "    y, x, _ = image.shape \n",
    "    y, x = y / 2, x / 2\n",
    "    r = np.linalg.norm([x/2.0, y/2.0])\n",
    "    _angle = math.pi * angle / 180.0\n",
    "    _cos = math.cos(_angle)\n",
    "    _sin = math.sin(_angle)\n",
    "    right = x * (1 - _cos) + y * _sin\n",
    "    down =  x * (1 - _sin) - y * _cos\n",
    "    print(right, down)\n",
    "    rotation_matrix = np.array([[_cos, -_sin, right], [_sin, _cos, down]])\n",
    "    return cv2.warpAffine(image, rotation_matrix, image.shape[-2::-1])\n",
    "\n",
    "def system_rotation(image, angle, clockwise=False):\n",
    "    \"\"\"\n",
    "    系统调用组装旋转函数\n",
    "    @param image: 原始图片\n",
    "    @param angle: 旋转角度\n",
    "    @param clockwose: 旋转方向\n",
    "    \"\"\"\n",
    "    if clockwise:\n",
    "        angle = -angle\n",
    "    y, x, _ = image.shape\n",
    "    center = (x / 2, y / 2)\n",
    "    rotation_matrix = cv2.getRotationMatrix2D(center, angle, 1.0)\n",
    "    return cv2.warpAffine(image, rotation_matrix, (x, y))\n",
    "\n",
    "color_dict = {\n",
    "    'red':{\n",
    "        'h':[(0,10),(156,180)]\n",
    "    },\n",
    "    'orange':{\n",
    "        'h':[(11,25)]\n",
    "    },\n",
    "    'yellow':{\n",
    "        'h':[(26,34)]\n",
    "    },\n",
    "    'green':{\n",
    "        'h':[(35,77)]\n",
    "    },\n",
    "    'cyan':{\n",
    "        'h':[(35,77)]\n",
    "    },\n",
    "    'blue':{\n",
    "        'h':[(100,124)]\n",
    "    },\n",
    "    'purple':{\n",
    "        'h':[(125,155)]\n",
    "    }\n",
    "}\n",
    "support = color_dict.keys()\n",
    "base_h = [(0, 180)]\n",
    "# 剔除了黑白灰，暂时用不到\n",
    "base_s = (43, 255)\n",
    "base_v = (46, 255)\n",
    "def color_shift(image, _from=None, _to=None):\n",
    "    \"\"\"\n",
    "    @param image:HSV格式图像\n",
    "    @param _from: 旧颜色\n",
    "    @param _to: 新颜色\n",
    "    \"\"\"\n",
    "    global support\n",
    "    global special\n",
    "    \n",
    "    h,s,v = cv2.split(image)\n",
    "    if (_from not in support) or (_to not in support):\n",
    "        raise Exception('unsupport color, support list : {0}'.format(support))\n",
    "    if _from == _to:\n",
    "        return cv2.merge((h,s,v))\n",
    "    from_info = color_dict[_from]\n",
    "    to_info = color_dict[_to]\n",
    "    from_h = from_info.setdefault('h', base_h)[-1]\n",
    "    to_h   = to_info.setdefault('h', base_h)[-1]\n",
    "    for _from_h in from_h:\n",
    "        h = boundary_mapping(h, from_h, to_h)\n",
    "    return cv2.merge((h,s,v))\n",
    "\n",
    "def boundary_mapping(value, old_boundary, new_boundary,min_offset=10, max_offset=10):\n",
    "    old_min, old_max = old_boundary\n",
    "    old_min, old_max = old_min-min_offset, old_max +max_offset\n",
    "    new_min, new_max = new_boundary\n",
    "    old_scale = old_max - old_min\n",
    "    new_scale = new_max - new_min\n",
    "    for y in range(len(value)):\n",
    "        for x in range(len(value[y])):\n",
    "            if old_min <= value[y][x] <= old_max:\n",
    "                value[y][x] = (value[y][x] - old_min) / old_scale * new_scale + new_min\n",
    "\n",
    "    return value.astype('uint8')\n",
    "\n",
    "\n",
    "\n",
    "def perspective_transform(image,*args): \n",
    "    if not len(args) == 16:\n",
    "        raise Exception(\"illegal args, need 16 int\")\n",
    "    point_paire = np.array(args).reshape(2,4,2).astype('float32')\n",
    "    print(point_paire)\n",
    "    mirror_matrix = cv2.getPerspectiveTransform(point_paire[0], point_paire[1])\n",
    "    return cv2.warpPerspective(image, mirror_matrix, image.shape[-2::-1])"
   ]
  },
  {
   "cell_type": "markdown",
   "metadata": {},
   "source": [
    "各位同学，你已经把课上关于图像增广实现了！CV的领域很广，咱们需要思考兴趣点在哪～"
   ]
  },
  {
   "cell_type": "markdown",
   "metadata": {},
   "source": [
    "5.2  Do think about your own interests very carefully and choose your topic within 3 weeks."
   ]
  },
  {
   "cell_type": "markdown",
   "metadata": {},
   "source": [
    "Answer:图像的各种处理和应用以及各种神经网络、机器学习"
   ]
  },
  {
   "cell_type": "markdown",
   "metadata": {},
   "source": [
    "这次的作业就到这里了！祝大家学习进步！"
   ]
  },
  {
   "cell_type": "markdown",
   "metadata": {},
   "source": [
    "![image alt <](http://5b0988e595225.cdn.sohucs.com/images/20190420/1d1070881fd540db817b2a3bdd967f37.gif)"
   ]
  }
 ],
 "metadata": {
  "kernelspec": {
   "display_name": "Python 3",
   "language": "python",
   "name": "python3"
  },
  "language_info": {
   "codemirror_mode": {
    "name": "ipython",
    "version": 3
   },
   "file_extension": ".py",
   "mimetype": "text/x-python",
   "name": "python",
   "nbconvert_exporter": "python",
   "pygments_lexer": "ipython3",
   "version": "3.7.3"
  }
 },
 "nbformat": 4,
 "nbformat_minor": 2
}
